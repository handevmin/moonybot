{
 "cells": [
  {
   "cell_type": "code",
   "execution_count": null,
   "metadata": {},
   "outputs": [],
   "source": [
    "from pykiwoom.kiwoom import *\n",
    "\n",
    "kiwoom = Kiwoom()\n",
    "kiwoom.CommConnect(block=True)\n",
    "print(\"블록킹 로그인 완료\")"
   ]
  }
 ],
 "metadata": {
  "language_info": {
   "name": "python"
  },
  "orig_nbformat": 4
 },
 "nbformat": 4,
 "nbformat_minor": 2
}
